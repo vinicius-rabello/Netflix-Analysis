{
 "cells": [
  {
   "cell_type": "code",
   "execution_count": 1,
   "id": "486260b6",
   "metadata": {},
   "outputs": [],
   "source": [
    "from sqlalchemy import create_engine\n",
    "import pandas as pd\n",
    "import sqlite3"
   ]
  },
  {
   "cell_type": "code",
   "execution_count": 2,
   "id": "ac912ce3",
   "metadata": {},
   "outputs": [],
   "source": [
    "df_tv_english=pd.read_excel('df_tv_english.xlsx')\n",
    "netflix_db=pd.read_excel('fixed_netflix_db.xlsx')"
   ]
  },
  {
   "cell_type": "code",
   "execution_count": 3,
   "id": "9c52a406",
   "metadata": {},
   "outputs": [],
   "source": [
    "engine = create_engine('sqlite:///C:/Users/vinic/Documents/Netflix Analysis/netflix.db', echo=False)"
   ]
  },
  {
   "cell_type": "code",
   "execution_count": 4,
   "id": "df20b568",
   "metadata": {},
   "outputs": [
    {
     "data": {
      "text/plain": [
       "Engine(sqlite:///C:/Users/vinic/Documents/Netflix Analysis/netflix.db)"
      ]
     },
     "execution_count": 4,
     "metadata": {},
     "output_type": "execute_result"
    }
   ],
   "source": [
    "engine"
   ]
  },
  {
   "cell_type": "code",
   "execution_count": 5,
   "id": "b9122df8",
   "metadata": {},
   "outputs": [
    {
     "data": {
      "text/plain": [
       "273"
      ]
     },
     "execution_count": 5,
     "metadata": {},
     "output_type": "execute_result"
    }
   ],
   "source": [
    "df_tv_english.to_sql('netflix_table',con=engine,if_exists='replace', index=False)\n",
    "netflix_db.to_sql('shows_table',con=engine,if_exists='replace', index=False)"
   ]
  },
  {
   "cell_type": "code",
   "execution_count": 6,
   "id": "aefc2a00",
   "metadata": {},
   "outputs": [],
   "source": [
    "connection = sqlite3.connect('netflix.db')\n",
    "cursor = connection.cursor()"
   ]
  },
  {
   "cell_type": "code",
   "execution_count": 7,
   "id": "62df9986",
   "metadata": {},
   "outputs": [],
   "source": [
    "join_tables=cursor.execute('SELECT netflix_table.*,shows_table.*\\\n",
    "                FROM netflix_table\\\n",
    "                LEFT JOIN shows_table ON netflix_table.show_title=shows_table.show_title;').fetchall()"
   ]
  },
  {
   "cell_type": "code",
   "execution_count": 8,
   "id": "edb174b6",
   "metadata": {},
   "outputs": [],
   "source": [
    "df=pd.DataFrame(join_tables,columns=['week','category','show_title','weekly_hours_viewed','drop_this',\\\n",
    "                              'cast_member_1','cast_member_2','cast_member_3',\\\n",
    "                                'genre_1','genre_2','genre_3','mood_1','mood_2'])"
   ]
  },
  {
   "cell_type": "code",
   "execution_count": 9,
   "id": "febc519f",
   "metadata": {},
   "outputs": [
    {
     "data": {
      "text/plain": [
       "1250"
      ]
     },
     "execution_count": 9,
     "metadata": {},
     "output_type": "execute_result"
    }
   ],
   "source": [
    "df.to_sql('netflix_table',con=engine,if_exists='replace', index=False)"
   ]
  },
  {
   "cell_type": "code",
   "execution_count": 10,
   "id": "2999610e",
   "metadata": {},
   "outputs": [
    {
     "data": {
      "text/plain": [
       "<sqlite3.Cursor at 0x1d2f5353f80>"
      ]
     },
     "execution_count": 10,
     "metadata": {},
     "output_type": "execute_result"
    }
   ],
   "source": [
    "cursor.execute('UPDATE netflix_table \\\n",
    "                SET genre_1 = REPLACE(genre_1, \"&amp;\", \"and\")')\n",
    "\n",
    "cursor.execute('UPDATE netflix_table \\\n",
    "                SET genre_2 = REPLACE(genre_2, \"&amp;\", \"and\")')\n",
    "\n",
    "cursor.execute('UPDATE netflix_table \\\n",
    "                SET genre_3 = REPLACE(genre_3, \"&amp;\", \"and\")')"
   ]
  },
  {
   "cell_type": "code",
   "execution_count": 11,
   "id": "7c030848",
   "metadata": {},
   "outputs": [],
   "source": [
    "rows=cursor.execute('SELECT * FROM netflix_table;').fetchall()"
   ]
  },
  {
   "cell_type": "code",
   "execution_count": 17,
   "id": "844fa2bd",
   "metadata": {},
   "outputs": [],
   "source": [
    "df=pd.DataFrame(rows,columns=['week','category','show_title','weekly_hours_viewed','drop_this',\\\n",
    "                                    'cast_member_1','cast_member_2','cast_member_3',\\\n",
    "                                    'genre_1','genre_2','genre_3','mood_1','mood_2'])"
   ]
  },
  {
   "cell_type": "code",
   "execution_count": 18,
   "id": "3463ff2e",
   "metadata": {},
   "outputs": [],
   "source": [
    "df.drop('drop_this',axis=1,inplace=True)"
   ]
  },
  {
   "cell_type": "code",
   "execution_count": 19,
   "id": "988bd158",
   "metadata": {},
   "outputs": [
    {
     "data": {
      "text/plain": [
       "(1250, 12)"
      ]
     },
     "execution_count": 19,
     "metadata": {},
     "output_type": "execute_result"
    }
   ],
   "source": [
    "df.shape"
   ]
  },
  {
   "cell_type": "code",
   "execution_count": 21,
   "id": "baa0d2d5",
   "metadata": {},
   "outputs": [],
   "source": [
    "df.to_excel('netflix_database.xlsx',index=False)"
   ]
  },
  {
   "cell_type": "code",
   "execution_count": null,
   "id": "d6953c85",
   "metadata": {},
   "outputs": [],
   "source": []
  }
 ],
 "metadata": {
  "kernelspec": {
   "display_name": "Python 3 (ipykernel)",
   "language": "python",
   "name": "python3"
  },
  "language_info": {
   "codemirror_mode": {
    "name": "ipython",
    "version": 3
   },
   "file_extension": ".py",
   "mimetype": "text/x-python",
   "name": "python",
   "nbconvert_exporter": "python",
   "pygments_lexer": "ipython3",
   "version": "3.9.13"
  }
 },
 "nbformat": 4,
 "nbformat_minor": 5
}
