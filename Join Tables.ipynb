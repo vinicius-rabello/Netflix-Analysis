{
 "cells": [
  {
   "cell_type": "code",
   "execution_count": 13,
   "id": "486260b6",
   "metadata": {},
   "outputs": [],
   "source": [
    "from sqlalchemy import create_engine\n",
    "import pandas as pd\n",
    "import sqlite3"
   ]
  },
  {
   "cell_type": "code",
   "execution_count": 7,
   "id": "ac912ce3",
   "metadata": {},
   "outputs": [],
   "source": [
    "df_tv_english=pd.read_excel('df_tv_english.xlsx')\n",
    "netflix_db=pd.read_excel('netflix_db.xlsx')\n",
    "fix_for_netflix_db=pd.read_excel('fix_for_netflix_db.xlsx')"
   ]
  },
  {
   "cell_type": "code",
   "execution_count": 10,
   "id": "9c52a406",
   "metadata": {},
   "outputs": [],
   "source": [
    "engine = create_engine('sqlite:///C:/Users/vinic/Documents/Netflix Analysis/netflix.db', echo=False)"
   ]
  },
  {
   "cell_type": "code",
   "execution_count": 11,
   "id": "df20b568",
   "metadata": {},
   "outputs": [
    {
     "data": {
      "text/plain": [
       "Engine(sqlite:///C:/Users/vinic/Documents/Netflix Analysis/netflix.db)"
      ]
     },
     "execution_count": 11,
     "metadata": {},
     "output_type": "execute_result"
    }
   ],
   "source": [
    "engine"
   ]
  },
  {
   "cell_type": "code",
   "execution_count": 17,
   "id": "b9122df8",
   "metadata": {},
   "outputs": [
    {
     "data": {
      "text/plain": [
       "18"
      ]
     },
     "execution_count": 17,
     "metadata": {},
     "output_type": "execute_result"
    }
   ],
   "source": [
    "df_tv_english.to_sql('netflix_table',con=engine,if_exists='replace', index=False)\n",
    "netflix_db.to_sql('shows_table',con=engine,if_exists='replace', index=False)\n",
    "fix_for_netflix_db.to_sql('fix_for_shows_table',con=engine,if_exists='replace', index=False)"
   ]
  },
  {
   "cell_type": "code",
   "execution_count": 14,
   "id": "aefc2a00",
   "metadata": {},
   "outputs": [],
   "source": [
    "connection = sqlite3.connect('netflix.db')\n",
    "cursor = connection.cursor()"
   ]
  },
  {
   "cell_type": "code",
   "execution_count": 29,
   "id": "d5986c0d",
   "metadata": {},
   "outputs": [],
   "source": [
    "r=cursor.execute('SELECT genre_1, count(genre_1) FROM shows_table\\\n",
    "                GROUP BY genre_1 ORDER BY count(genre_1) DESC;').fetchall()"
   ]
  }
 ],
 "metadata": {
  "kernelspec": {
   "display_name": "Python 3 (ipykernel)",
   "language": "python",
   "name": "python3"
  },
  "language_info": {
   "codemirror_mode": {
    "name": "ipython",
    "version": 3
   },
   "file_extension": ".py",
   "mimetype": "text/x-python",
   "name": "python",
   "nbconvert_exporter": "python",
   "pygments_lexer": "ipython3",
   "version": "3.9.13"
  }
 },
 "nbformat": 4,
 "nbformat_minor": 5
}
